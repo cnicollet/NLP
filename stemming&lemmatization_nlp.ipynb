{
 "cells": [
  {
   "cell_type": "markdown",
   "metadata": {},
   "source": [
    "Text Mining is the process of analysis of texts written in natural language and extract high-quality information from text. It involves looking for interesting patterns in the text or to extract data from the text to be inserted into a database. \n",
    "Stemming and Lemmatization are Text Normalization techniques widely used in NLP to prepare text, words, and documents for further processing. Some examples of stemming and lemmatization will be presented in this tutorial."
   ]
  },
  {
   "cell_type": "code",
   "execution_count": 2,
   "metadata": {},
   "outputs": [],
   "source": [
    "from nltk.stem import PorterStemmer\n",
    "from nltk.stem import LancasterStemmer"
   ]
  },
  {
   "cell_type": "code",
   "execution_count": 8,
   "metadata": {},
   "outputs": [
    {
     "name": "stdout",
     "output_type": "stream",
     "text": [
      "Word                Porter Stemmer      Lancaster Stemmer   \n",
      "listening           listen              list                \n",
      "listened            listen              list                \n",
      "wondering           wonder              wond                \n",
      "wondered            wonder              wond                \n",
      "happy               happi               happy               \n",
      "happyness           happy               happy               \n",
      "joy                 joy                 joy                 \n",
      "football            footbal             footbal             \n"
     ]
    }
   ],
   "source": [
    "# list of words to e stemmed\n",
    "words = [\"listening\", \"listened\", \"wondering\", \"wondered\", \"happy\", \"happyness\", \"joy\", \"football\"]\n",
    "\n",
    "print(\"{0:20}{1:20}{2:20}\".format(\"Word\", \"Porter Stemmer\", \"Lancaster Stemmer\"))\n",
    "\n",
    "for word in words:\n",
    "    print(\"{0:20}{1:20}{2:20}\".format(word, PorterStemmer().stem(word), LancasterStemmer().stem(word)))"
   ]
  },
  {
   "cell_type": "markdown",
   "metadata": {},
   "source": [
    "AS shown above, Porter stemmer gives better results."
   ]
  },
  {
   "cell_type": "code",
   "execution_count": 11,
   "metadata": {},
   "outputs": [],
   "source": [
    "sentence = 'Python is an interpreted, high-level, general-purpose programming language. Created by Guido van Rossum and first released in 1991, Python has a design philosophy that emphasizes code readability, notably using significant whitespace. It provides constructs that enable clear programming on both small and large scales.'"
   ]
  },
  {
   "cell_type": "code",
   "execution_count": 9,
   "metadata": {},
   "outputs": [],
   "source": [
    "# Apply porter stemmer to a text\n",
    "text = 'In persuasive or argumentative speaking, we try to convince others to agree with our facts, believe our claim, share our values, accept our conclusions, buy our product, or adopt our way of thinking, Price says. “One proven approach to convince your audience is cause-and-effect reasoning. It’s a method that helps your listeners see why things have happened or will happen as they do. It shows the inevitable linkage between what happens first and what happens next as a result. Cause-and-effect words make your claims sound objective and rational rather than biased and subjective.'"
   ]
  },
  {
   "cell_type": "code",
   "execution_count": 10,
   "metadata": {},
   "outputs": [
    {
     "name": "stdout",
     "output_type": "stream",
     "text": [
      "in persuasive or argumentative speaking, we try to convince others to agree with our facts, believe our claim, share our values, accept our conclusions, buy our product, or adopt our way of thinking, price says. “one proven approach to convince your audience is cause-and-effect reasoning. it’s a method that helps your listeners see why things have happened or will happen as they do. it shows the inevitable linkage between what happens first and what happens next as a result. cause-and-effect words make your claims sound objective and rational rather than biased and subjective.\n"
     ]
    }
   ],
   "source": [
    "print(PorterStemmer().stem(text))"
   ]
  },
  {
   "cell_type": "markdown",
   "metadata": {},
   "source": [
    "Notice that there is no change in this text. No stemming process is applied, stemmer sees the entire text as a word, so it returns it as it is. So we need to process the text first."
   ]
  },
  {
   "cell_type": "code",
   "execution_count": 51,
   "metadata": {},
   "outputs": [
    {
     "name": "stdout",
     "output_type": "stream",
     "text": [
      "python is an interpret , high-level , general-purpos program languag . creat by guido van rossum and first releas in 1991 , python ha a design philosophi that emphas code readabl , notabl use signific whitespac . It provid construct that enabl clear program on both small and larg scale . \n"
     ]
    }
   ],
   "source": [
    "from nltk.tokenize import sent_tokenize, word_tokenize\n",
    "\n",
    "porter = PorterStemmer()\n",
    "\n",
    "def porter_stem_sentence(sentence):\n",
    "    token_words = word_tokenize(sentence)\n",
    "    stem_sentence = []\n",
    "    for word in token_words:\n",
    "        stem_sentence.append(porter.stem(word))\n",
    "        stem_sentence.append(' ')\n",
    "    return ''.join(stem_sentence)\n",
    "    \n",
    "print(porter_stem_sentence(sentence))\n"
   ]
  },
  {
   "cell_type": "code",
   "execution_count": 29,
   "metadata": {},
   "outputs": [
    {
     "name": "stdout",
     "output_type": "stream",
     "text": [
      "In persuasive or argumentative speaking, we try to convince others to agree with our facts, believe our claim, share our values, accept our conclusions, buy our product, or adopt our way of thinking, Price says. “One proven approach to convince your audience is cause-and-effect reasoning. It’s a method that helps your listeners see why things have happened or will happen as they do. It shows the inevitable linkage between what happens first and what happens next as a result. Cause-and-effect words make your claims sound objective and rational rather than biased and subjective.\n",
      "\n",
      "\n",
      "In persuas or argument speak , we tri to convinc other to agre with our fact , believ our claim , share our valu , accept our conclus , buy our product , or adopt our way of think , price say . “ one proven approach to convinc your audienc is cause-and-effect reason . It ’ s a method that help your listen see whi thing have happen or will happen as they do . It show the inevit linkag between what happen first and what happen next as a result . cause-and-effect word make your claim sound object and ration rather than bias and subject . \n"
     ]
    }
   ],
   "source": [
    "# Apply stemming for a whole text or document\n",
    "print(text)\n",
    "print('\\n')\n",
    "print(stem_sentence(text))"
   ]
  },
  {
   "cell_type": "code",
   "execution_count": 31,
   "metadata": {},
   "outputs": [],
   "source": [
    "# Save the atemmed text\n",
    "stem_file = open('stem_python_wiki.txt', mode='a+', encoding='utf-8')\n",
    "stem_file.write(stem_sentence(text))\n",
    "stem_file.close()"
   ]
  },
  {
   "cell_type": "code",
   "execution_count": 49,
   "metadata": {},
   "outputs": [
    {
     "data": {
      "text/plain": [
       "'regard'"
      ]
     },
     "execution_count": 49,
     "metadata": {},
     "output_type": "execute_result"
    }
   ],
   "source": [
    "from nltk.stem.snowball import SnowballStemmer\n",
    "snowball = SnowballStemmer('english', ignore_stopwords=True)\n",
    "snowball.stem('regarding')"
   ]
  },
  {
   "cell_type": "code",
   "execution_count": 52,
   "metadata": {},
   "outputs": [
    {
     "name": "stdout",
     "output_type": "stream",
     "text": [
      "python is an interpret , high-level , general-purpos program languag . creat by guido van rossum and first releas in 1991 , python has a design philosophi that emphas code readabl , notabl use signific whitespac . it provid construct that enabl clear program on both small and larg scale . \n"
     ]
    }
   ],
   "source": [
    "def snowball_stem_sentence(sentence):\n",
    "    token_words = word_tokenize(sentence)\n",
    "    stem_sentence = []\n",
    "    for word in token_words:\n",
    "        stem_sentence.append(snowball.stem(word))\n",
    "        stem_sentence.append(' ')\n",
    "    return ''.join(stem_sentence)\n",
    "    \n",
    "print(snowball_stem_sentence(sentence))\n"
   ]
  },
  {
   "cell_type": "code",
   "execution_count": 53,
   "metadata": {},
   "outputs": [
    {
     "data": {
      "text/plain": [
       "'python is an interpret , high-level , general-purpos program languag . creat by guido van rossum and first releas in 1991 , python ha a design philosophi that emphas code readabl , notabl use signific whitespac . It provid construct that enabl clear program on both small and larg scale . '"
      ]
     },
     "execution_count": 53,
     "metadata": {},
     "output_type": "execute_result"
    }
   ],
   "source": [
    "porter_stem_sentence(sentence)"
   ]
  },
  {
   "cell_type": "code",
   "execution_count": 69,
   "metadata": {},
   "outputs": [
    {
     "name": "stdout",
     "output_type": "stream",
     "text": [
      "Words               Wordnet Lemma       \n",
      "Last                Last                \n",
      "night               night               \n",
      "I                   I                   \n",
      "played              play                \n",
      "my                  my                  \n",
      "guitar              guitar              \n",
      "loudly              loudly              \n",
      "and                 and                 \n",
      "the                 the                 \n",
      "neighbors           neighbor            \n",
      "complained          complain            \n"
     ]
    }
   ],
   "source": [
    "from nltk.stem import WordNetLemmatizer\n",
    "\n",
    "wordnet_leamma = WordNetLemmatizer()\n",
    "\n",
    "sent = \"Last night I played my guitar loudly and the neighbors complained!\"\n",
    "\n",
    "punc = \".,;?!:\"\n",
    "words_token = word_tokenize(sent)\n",
    "\n",
    "print('{0:20}{1:20}'.format('Words', 'Wordnet Lemma'))\n",
    "for word in words_token:\n",
    "    if word in punc:\n",
    "        continue\n",
    "    print('{0:20}{1:20}'.format(word, wordnet_leamma.lemmatize(word, pos='v')))"
   ]
  },
  {
   "cell_type": "code",
   "execution_count": null,
   "metadata": {},
   "outputs": [],
   "source": []
  }
 ],
 "metadata": {
  "kernelspec": {
   "display_name": "Python 3",
   "language": "python",
   "name": "python3"
  },
  "language_info": {
   "codemirror_mode": {
    "name": "ipython",
    "version": 3
   },
   "file_extension": ".py",
   "mimetype": "text/x-python",
   "name": "python",
   "nbconvert_exporter": "python",
   "pygments_lexer": "ipython3",
   "version": "3.6.8"
  }
 },
 "nbformat": 4,
 "nbformat_minor": 2
}
